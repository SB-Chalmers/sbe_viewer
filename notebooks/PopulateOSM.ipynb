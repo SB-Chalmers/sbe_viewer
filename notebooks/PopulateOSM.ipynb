{
 "cells": [
  {
   "cell_type": "code",
   "execution_count": 1,
   "metadata": {},
   "outputs": [],
   "source": [
    "import geopandas as gpd \n",
    "import random\n",
    "#read fill\n",
    "footprint_path = '../public/sample-data.geojson'\n",
    "\n",
    "#read the file\n",
    "footprint = gpd.read_file(footprint_path)\n",
    "\n"
   ]
  },
  {
   "cell_type": "code",
   "execution_count": 5,
   "metadata": {},
   "outputs": [],
   "source": [
    "# Apply a function to create random heights for each building betwee 6 and 10\n",
    "footprint['height'] = footprint.apply(lambda row: random.uniform(6, 10), axis=1)\n",
    "\n",
    "# Apply a function to create EPC_class for each building betwee A and G in the following proportions [A,C,C,C,D,D,D,D,D,E,E,E,E,E,F,F,F,F,F,G,G,G,G,G,G]\n",
    "footprint['EPC_class'] = footprint.apply(lambda row: random.choice(['A','C','C','C','D','D','D','D','D','E','E','E','E','E','F','F','F','F','F','G','G','G','G','G','G']), axis=1)"
   ]
  },
  {
   "cell_type": "code",
   "execution_count": 7,
   "metadata": {},
   "outputs": [],
   "source": [
    "# transform crs to projected get area and return crs\n",
    "footprint = footprint.to_crs(epsg=3395)\n",
    "footprint['area'] = footprint.area\n",
    "footprint = footprint.to_crs(epsg=4326)\n"
   ]
  },
  {
   "cell_type": "code",
   "execution_count": 8,
   "metadata": {},
   "outputs": [],
   "source": [
    "# Annual energy consumption in kWh/m2 based on EPC class\n",
    "EPC_class = {'A': 100, 'B': 120, 'C': 150, 'D': 200, 'E': 250, 'F': 300, 'G': 350}\n",
    "footprint['energy'] = footprint['EPC_class'].map(EPC_class)\n",
    "footprint['annual_energy'] = footprint['energy'] * footprint['area']"
   ]
  },
  {
   "cell_type": "code",
   "execution_count": 3,
   "metadata": {},
   "outputs": [],
   "source": [
    "# Add floors based on height\n",
    "footprint['floors'] = footprint['height'] // 3"
   ]
  },
  {
   "cell_type": "code",
   "execution_count": 5,
   "metadata": {},
   "outputs": [],
   "source": [
    "# Add function basically residential or commercial but mostly residential\n",
    "footprint['function'] = footprint.apply(lambda row: random.choice(['Residential','Commercial', 'Residential', 'Residential']), axis=1)"
   ]
  },
  {
   "cell_type": "code",
   "execution_count": 6,
   "metadata": {},
   "outputs": [],
   "source": [
    "# Round area, height, and energy and \"annual_energy\" to 2 decimal places\n",
    "footprint['area'] = footprint['area'].round(2)\n",
    "footprint['height'] = footprint['height'].round(2)\n",
    "footprint['energy'] = footprint['energy'].round(2)\n",
    "footprint['annual_energy'] = footprint['annual_energy'].round(2)\n"
   ]
  },
  {
   "cell_type": "code",
   "execution_count": 7,
   "metadata": {},
   "outputs": [],
   "source": [
    "# Save the file\n",
    "footprint.to_file('../public/sample-data.geojson', driver='GeoJSON')"
   ]
  }
 ],
 "metadata": {
  "kernelspec": {
   "display_name": "dtcc",
   "language": "python",
   "name": "python3"
  },
  "language_info": {
   "codemirror_mode": {
    "name": "ipython",
    "version": 3
   },
   "file_extension": ".py",
   "mimetype": "text/x-python",
   "name": "python",
   "nbconvert_exporter": "python",
   "pygments_lexer": "ipython3",
   "version": "3.10.12"
  }
 },
 "nbformat": 4,
 "nbformat_minor": 2
}
